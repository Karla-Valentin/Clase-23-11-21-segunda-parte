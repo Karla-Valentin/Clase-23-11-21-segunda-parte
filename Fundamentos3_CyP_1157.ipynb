{
  "nbformat": 4,
  "nbformat_minor": 0,
  "metadata": {
    "colab": {
      "name": "Fundamentos3_CyP_1157.ipynb",
      "provenance": [],
      "authorship_tag": "ABX9TyPe3ioLJM6YV6Zwz0v53CP+",
      "include_colab_link": true
    },
    "kernelspec": {
      "name": "python3",
      "display_name": "Python 3"
    },
    "language_info": {
      "name": "python"
    }
  },
  "cells": [
    {
      "cell_type": "markdown",
      "metadata": {
        "id": "view-in-github",
        "colab_type": "text"
      },
      "source": [
        "<a href=\"https://colab.research.google.com/github/Karla-Valentin/Clase-23-11-21-segunda-parte/blob/main/Fundamentos3_CyP_1157.ipynb\" target=\"_parent\"><img src=\"https://colab.research.google.com/assets/colab-badge.svg\" alt=\"Open In Colab\"/></a>"
      ]
    },
    {
      "cell_type": "markdown",
      "metadata": {
        "id": "c4W2Qa8TF_90"
      },
      "source": [
        "3. Repetición: \n",
        "\n",
        "Este tipo de estructura nos permite automatizar la ejecución repetitiva de \n",
        "código mientas ciertas condiciones s cumplan, tenemos 3 variantes de esta\n",
        " estructura en todos los lenguajes de programación:\n",
        "\n",
        "    - Este tipo de estructura nos permite automatizar la ejecución repetitiva de código mienttras ciertas condiciones se cumplam, tenemos 3 variantes de esta estructura en todos los lenguajes de programación. \n",
        "    - Desde.....hasta (estructura for)\n",
        "    - haz mientras (estructura while)  \n",
        "    - haz y luego validez mientras (estructura Do-while)      \n",
        "\n",
        "# FOR  CON Python\n",
        "```   \n",
        "for j in range(10):    \n",
        "    print(f\"Hola {j}\")\n",
        "```\n",
        "# FOR Con lenguaje C y Java\n",
        "```\n",
        "for( int j=0 ; j=j+1 ){\n",
        "    printf(\"Hola %i /n\", j );\n",
        "}   \n",
        "```\n",
        "En todos los lenguajes de preohramación existe un tipo especial de for, conocido como for-each \n",
        "\n",
        "# For each en Python\n",
        "```\n",
        "for color in colores:     \n",
        "    print(f\"Este es el color {color}\")\n",
        "    "
      ]
    },
    {
      "cell_type": "code",
      "metadata": {
        "colab": {
          "base_uri": "https://localhost:8080/"
        },
        "id": "xSt_YD6jHr1h",
        "outputId": "41991be6-542e-4e5a-bb98-6ce544503e62"
      },
      "source": [
        "# Función range \n",
        "# range(<INICIO>,<STOP>,<INCREMENTO>)\n",
        "x = range(0,10,2)\n",
        "print(x)\n",
        "\n",
        "for j in range(10):\n",
        "    print(f\"Hola {j}\")\n"
      ],
      "execution_count": 11,
      "outputs": [
        {
          "output_type": "stream",
          "name": "stdout",
          "text": [
            "range(0, 10, 2)\n",
            "Hola 0\n",
            "Hola 1\n",
            "Hola 2\n",
            "Hola 3\n",
            "Hola 4\n",
            "Hola 5\n",
            "Hola 6\n",
            "Hola 7\n",
            "Hola 8\n",
            "Hola 9\n"
          ]
        }
      ]
    },
    {
      "cell_type": "code",
      "metadata": {
        "colab": {
          "base_uri": "https://localhost:8080/"
        },
        "id": "cbZCNEPPJujj",
        "outputId": "8680904e-e3fd-452a-bce7-5ff2f8f3c91d"
      },
      "source": [
        "for j in range(0,10,2):\n",
        "    print(f\"Hola {j}\")\n",
        "print(\"-----FRUTAS-----\")    \n",
        "\n",
        "frutas = [\"uva\", \"aguacate\", \"pera\", \"manzana\", \"sandia\"] \n",
        "\n",
        "for index in range(5):\n",
        "    print(frutas[index])\n"
      ],
      "execution_count": 14,
      "outputs": [
        {
          "output_type": "stream",
          "name": "stdout",
          "text": [
            "Hola 0\n",
            "Hola 2\n",
            "Hola 4\n",
            "Hola 6\n",
            "Hola 8\n",
            "-----FRUTAS-----\n",
            "uva\n",
            "aguacate\n",
            "pera\n",
            "manzana\n",
            "sandia\n"
          ]
        }
      ]
    },
    {
      "cell_type": "markdown",
      "metadata": {
        "id": "Tr7mNHLoLTqf"
      },
      "source": [
        "imprimir un  cuadrado de 5x5 "
      ]
    },
    {
      "cell_type": "code",
      "metadata": {
        "colab": {
          "base_uri": "https://localhost:8080/"
        },
        "id": "H72967NMLZ0q",
        "outputId": "abed309a-bd16-4825-dd07-f4e94b347e1b"
      },
      "source": [
        "for i in range(5):\n",
        "    print(\"+++++\")\n",
        "    "
      ],
      "execution_count": 16,
      "outputs": [
        {
          "output_type": "stream",
          "name": "stdout",
          "text": [
            "+++++\n",
            "+++++\n",
            "+++++\n",
            "+++++\n",
            "+++++\n"
          ]
        }
      ]
    },
    {
      "cell_type": "markdown",
      "metadata": {
        "id": "Ywcm4IPoLrD9"
      },
      "source": [
        "Tarea moral: triangulo usando estructura for de menor a mayor \n",
        "\n",
        "+\n",
        "++\n",
        "+++\n",
        "++++\n",
        "+++++"
      ]
    }
  ]
}